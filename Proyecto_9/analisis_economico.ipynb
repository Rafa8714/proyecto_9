{
 "cells": [
  {
   "cell_type": "markdown",
   "id": "b6ea7915",
   "metadata": {},
   "source": [
    "# Análisis de negocio #"
   ]
  },
  {
   "cell_type": "markdown",
   "id": "a31cdea6",
   "metadata": {},
   "source": [
    "### El análisis de este para este proyecto se basará en ayudar a la mepresa Showz a optimizar los gastos de marketing, respondiendo a las siguentes preguntas:"
   ]
  },
  {
   "cell_type": "markdown",
   "id": "e16483fe",
   "metadata": {},
   "source": [
    "1. ¿Cómo los clientes usan el servicio?\n",
    "2. ¿Cúando empiezan a comprar?\n",
    "3. ¿Cúanto dinero aporta cada cliente a la compañía?\n",
    "4. ¿Cúando los ingresos cubren el costo de adquisición de los clientes? "
   ]
  },
  {
   "cell_type": "markdown",
   "id": "8672b8b9",
   "metadata": {},
   "source": [
    "### 1. Cargamos los datos y los preparamos para su análisis."
   ]
  },
  {
   "cell_type": "code",
   "execution_count": 98,
   "id": "96363421",
   "metadata": {},
   "outputs": [],
   "source": [
    "#importaciónd de librerías\n",
    "import pandas as pd\n",
    "import matplotlib.pyplot as plt\n",
    "import numpy as np"
   ]
  },
  {
   "cell_type": "code",
   "execution_count": 3,
   "id": "7361ccea",
   "metadata": {},
   "outputs": [],
   "source": [
    "#Carga de dataset\n",
    "\n",
    "visits = pd.read_csv('visits_log_us.csv')\n",
    "orders= pd.read_csv('orders_log_us.csv')\n",
    "costs= pd.read_csv('costs_us.csv')"
   ]
  },
  {
   "cell_type": "code",
   "execution_count": 4,
   "id": "65ed408b",
   "metadata": {},
   "outputs": [
    {
     "name": "stdout",
     "output_type": "stream",
     "text": [
      "<class 'pandas.core.frame.DataFrame'>\n",
      "RangeIndex: 359400 entries, 0 to 359399\n",
      "Data columns (total 5 columns):\n",
      " #   Column     Non-Null Count   Dtype         \n",
      "---  ------     --------------   -----         \n",
      " 0   Device     359400 non-null  object        \n",
      " 1   End Ts     359400 non-null  datetime64[ns]\n",
      " 2   Source Id  359400 non-null  int64         \n",
      " 3   Start Ts   359400 non-null  datetime64[ns]\n",
      " 4   Uid        359400 non-null  uint64        \n",
      "dtypes: datetime64[ns](2), int64(1), object(1), uint64(1)\n",
      "memory usage: 13.7+ MB\n",
      "None\n",
      "    Device              End Ts  Source Id            Start Ts  \\\n",
      "0    touch 2017-12-20 17:38:00          4 2017-12-20 17:20:00   \n",
      "1  desktop 2018-02-19 17:21:00          2 2018-02-19 16:53:00   \n",
      "2    touch 2017-07-01 01:54:00          5 2017-07-01 01:54:00   \n",
      "3  desktop 2018-05-20 11:23:00          9 2018-05-20 10:59:00   \n",
      "4  desktop 2017-12-27 14:06:00          3 2017-12-27 14:06:00   \n",
      "\n",
      "                    Uid  \n",
      "0  16879256277535980062  \n",
      "1    104060357244891740  \n",
      "2   7459035603376831527  \n",
      "3  16174680259334210214  \n",
      "4   9969694820036681168  \n"
     ]
    }
   ],
   "source": [
    "#Análisis de la calidad de los datos para visits\n",
    "\n",
    "visits['End Ts']= pd.to_datetime(visits['End Ts'])\n",
    "visits['Start Ts']= pd.to_datetime(visits['Start Ts'])\n",
    "print(visits.info())\n",
    "print(visits.head())"
   ]
  },
  {
   "cell_type": "code",
   "execution_count": 5,
   "id": "52f0b840",
   "metadata": {},
   "outputs": [
    {
     "name": "stdout",
     "output_type": "stream",
     "text": [
      "<class 'pandas.core.frame.DataFrame'>\n",
      "RangeIndex: 50415 entries, 0 to 50414\n",
      "Data columns (total 3 columns):\n",
      " #   Column   Non-Null Count  Dtype         \n",
      "---  ------   --------------  -----         \n",
      " 0   Buy Ts   50415 non-null  datetime64[ns]\n",
      " 1   Revenue  50415 non-null  float64       \n",
      " 2   Uid      50415 non-null  uint64        \n",
      "dtypes: datetime64[ns](1), float64(1), uint64(1)\n",
      "memory usage: 1.2 MB\n",
      "None\n",
      "               Buy Ts  Revenue                   Uid\n",
      "0 2017-06-01 00:10:00    17.00  10329302124590727494\n",
      "1 2017-06-01 00:25:00     0.55  11627257723692907447\n",
      "2 2017-06-01 00:27:00     0.37  17903680561304213844\n",
      "3 2017-06-01 00:29:00     0.55  16109239769442553005\n",
      "4 2017-06-01 07:58:00     0.37  14200605875248379450\n"
     ]
    }
   ],
   "source": [
    "#Análisis de la calidad de los datos para orders\n",
    "\n",
    "orders['Buy Ts']= pd.to_datetime(orders['Buy Ts'])\n",
    "\n",
    "print(orders.info())\n",
    "print(orders.head())"
   ]
  },
  {
   "cell_type": "code",
   "execution_count": 6,
   "id": "0c706756",
   "metadata": {},
   "outputs": [
    {
     "name": "stdout",
     "output_type": "stream",
     "text": [
      "<class 'pandas.core.frame.DataFrame'>\n",
      "RangeIndex: 2542 entries, 0 to 2541\n",
      "Data columns (total 3 columns):\n",
      " #   Column     Non-Null Count  Dtype         \n",
      "---  ------     --------------  -----         \n",
      " 0   source_id  2542 non-null   int64         \n",
      " 1   dt         2542 non-null   datetime64[ns]\n",
      " 2   costs      2542 non-null   float64       \n",
      "dtypes: datetime64[ns](1), float64(1), int64(1)\n",
      "memory usage: 59.7 KB\n",
      "None\n",
      "   source_id         dt  costs\n",
      "0          1 2017-06-01  75.20\n",
      "1          1 2017-06-02  62.25\n",
      "2          1 2017-06-03  36.53\n",
      "3          1 2017-06-04  55.00\n",
      "4          1 2017-06-05  57.08\n"
     ]
    }
   ],
   "source": [
    "#Análisis de la calidad de los datos para costs\n",
    "\n",
    "costs['dt']= pd.to_datetime(costs['dt'])\n",
    "\n",
    "print(costs.info())\n",
    "print(costs.head())"
   ]
  },
  {
   "cell_type": "markdown",
   "id": "ab705d17",
   "metadata": {},
   "source": [
    "### 2. Realizaremos métricas para analizar las visitas."
   ]
  },
  {
   "cell_type": "markdown",
   "id": "6382eabc",
   "metadata": {},
   "source": [
    "2.1 ¿Cuantas personas lo usan cada día, semana y mes?"
   ]
  },
  {
   "cell_type": "code",
   "execution_count": 7,
   "id": "34384519",
   "metadata": {},
   "outputs": [
    {
     "data": {
      "text/html": [
       "<div>\n",
       "<style scoped>\n",
       "    .dataframe tbody tr th:only-of-type {\n",
       "        vertical-align: middle;\n",
       "    }\n",
       "\n",
       "    .dataframe tbody tr th {\n",
       "        vertical-align: top;\n",
       "    }\n",
       "\n",
       "    .dataframe thead th {\n",
       "        text-align: right;\n",
       "    }\n",
       "</style>\n",
       "<table border=\"1\" class=\"dataframe\">\n",
       "  <thead>\n",
       "    <tr style=\"text-align: right;\">\n",
       "      <th></th>\n",
       "      <th>Device</th>\n",
       "      <th>End Ts</th>\n",
       "      <th>Source Id</th>\n",
       "      <th>Start Ts</th>\n",
       "      <th>Uid</th>\n",
       "      <th>visit_year</th>\n",
       "      <th>visit_week</th>\n",
       "      <th>visit_month</th>\n",
       "      <th>visit_daily</th>\n",
       "    </tr>\n",
       "  </thead>\n",
       "  <tbody>\n",
       "    <tr>\n",
       "      <th>0</th>\n",
       "      <td>touch</td>\n",
       "      <td>2017-12-20 17:38:00</td>\n",
       "      <td>4</td>\n",
       "      <td>2017-12-20 17:20:00</td>\n",
       "      <td>16879256277535980062</td>\n",
       "      <td>2017</td>\n",
       "      <td>51</td>\n",
       "      <td>12</td>\n",
       "      <td>2017-12-20</td>\n",
       "    </tr>\n",
       "    <tr>\n",
       "      <th>1</th>\n",
       "      <td>desktop</td>\n",
       "      <td>2018-02-19 17:21:00</td>\n",
       "      <td>2</td>\n",
       "      <td>2018-02-19 16:53:00</td>\n",
       "      <td>104060357244891740</td>\n",
       "      <td>2018</td>\n",
       "      <td>8</td>\n",
       "      <td>2</td>\n",
       "      <td>2018-02-19</td>\n",
       "    </tr>\n",
       "    <tr>\n",
       "      <th>2</th>\n",
       "      <td>touch</td>\n",
       "      <td>2017-07-01 01:54:00</td>\n",
       "      <td>5</td>\n",
       "      <td>2017-07-01 01:54:00</td>\n",
       "      <td>7459035603376831527</td>\n",
       "      <td>2017</td>\n",
       "      <td>26</td>\n",
       "      <td>7</td>\n",
       "      <td>2017-07-01</td>\n",
       "    </tr>\n",
       "    <tr>\n",
       "      <th>3</th>\n",
       "      <td>desktop</td>\n",
       "      <td>2018-05-20 11:23:00</td>\n",
       "      <td>9</td>\n",
       "      <td>2018-05-20 10:59:00</td>\n",
       "      <td>16174680259334210214</td>\n",
       "      <td>2018</td>\n",
       "      <td>20</td>\n",
       "      <td>5</td>\n",
       "      <td>2018-05-20</td>\n",
       "    </tr>\n",
       "    <tr>\n",
       "      <th>4</th>\n",
       "      <td>desktop</td>\n",
       "      <td>2017-12-27 14:06:00</td>\n",
       "      <td>3</td>\n",
       "      <td>2017-12-27 14:06:00</td>\n",
       "      <td>9969694820036681168</td>\n",
       "      <td>2017</td>\n",
       "      <td>52</td>\n",
       "      <td>12</td>\n",
       "      <td>2017-12-27</td>\n",
       "    </tr>\n",
       "    <tr>\n",
       "      <th>5</th>\n",
       "      <td>desktop</td>\n",
       "      <td>2017-09-03 21:36:00</td>\n",
       "      <td>5</td>\n",
       "      <td>2017-09-03 21:35:00</td>\n",
       "      <td>16007536194108375387</td>\n",
       "      <td>2017</td>\n",
       "      <td>35</td>\n",
       "      <td>9</td>\n",
       "      <td>2017-09-03</td>\n",
       "    </tr>\n",
       "    <tr>\n",
       "      <th>6</th>\n",
       "      <td>desktop</td>\n",
       "      <td>2018-01-30 12:09:00</td>\n",
       "      <td>1</td>\n",
       "      <td>2018-01-30 11:13:00</td>\n",
       "      <td>6661610529277171451</td>\n",
       "      <td>2018</td>\n",
       "      <td>5</td>\n",
       "      <td>1</td>\n",
       "      <td>2018-01-30</td>\n",
       "    </tr>\n",
       "    <tr>\n",
       "      <th>7</th>\n",
       "      <td>touch</td>\n",
       "      <td>2017-11-05 15:15:00</td>\n",
       "      <td>3</td>\n",
       "      <td>2017-11-05 15:14:00</td>\n",
       "      <td>11423865690854540312</td>\n",
       "      <td>2017</td>\n",
       "      <td>44</td>\n",
       "      <td>11</td>\n",
       "      <td>2017-11-05</td>\n",
       "    </tr>\n",
       "    <tr>\n",
       "      <th>8</th>\n",
       "      <td>desktop</td>\n",
       "      <td>2017-07-19 10:44:00</td>\n",
       "      <td>3</td>\n",
       "      <td>2017-07-19 10:41:00</td>\n",
       "      <td>2987360259350925644</td>\n",
       "      <td>2017</td>\n",
       "      <td>29</td>\n",
       "      <td>7</td>\n",
       "      <td>2017-07-19</td>\n",
       "    </tr>\n",
       "    <tr>\n",
       "      <th>9</th>\n",
       "      <td>desktop</td>\n",
       "      <td>2017-11-08 13:43:00</td>\n",
       "      <td>5</td>\n",
       "      <td>2017-11-08 13:42:00</td>\n",
       "      <td>1289240080042562063</td>\n",
       "      <td>2017</td>\n",
       "      <td>45</td>\n",
       "      <td>11</td>\n",
       "      <td>2017-11-08</td>\n",
       "    </tr>\n",
       "  </tbody>\n",
       "</table>\n",
       "</div>"
      ],
      "text/plain": [
       "    Device              End Ts  Source Id            Start Ts  \\\n",
       "0    touch 2017-12-20 17:38:00          4 2017-12-20 17:20:00   \n",
       "1  desktop 2018-02-19 17:21:00          2 2018-02-19 16:53:00   \n",
       "2    touch 2017-07-01 01:54:00          5 2017-07-01 01:54:00   \n",
       "3  desktop 2018-05-20 11:23:00          9 2018-05-20 10:59:00   \n",
       "4  desktop 2017-12-27 14:06:00          3 2017-12-27 14:06:00   \n",
       "5  desktop 2017-09-03 21:36:00          5 2017-09-03 21:35:00   \n",
       "6  desktop 2018-01-30 12:09:00          1 2018-01-30 11:13:00   \n",
       "7    touch 2017-11-05 15:15:00          3 2017-11-05 15:14:00   \n",
       "8  desktop 2017-07-19 10:44:00          3 2017-07-19 10:41:00   \n",
       "9  desktop 2017-11-08 13:43:00          5 2017-11-08 13:42:00   \n",
       "\n",
       "                    Uid  visit_year  visit_week  visit_month visit_daily  \n",
       "0  16879256277535980062        2017          51           12  2017-12-20  \n",
       "1    104060357244891740        2018           8            2  2018-02-19  \n",
       "2   7459035603376831527        2017          26            7  2017-07-01  \n",
       "3  16174680259334210214        2018          20            5  2018-05-20  \n",
       "4   9969694820036681168        2017          52           12  2017-12-27  \n",
       "5  16007536194108375387        2017          35            9  2017-09-03  \n",
       "6   6661610529277171451        2018           5            1  2018-01-30  \n",
       "7  11423865690854540312        2017          44           11  2017-11-05  \n",
       "8   2987360259350925644        2017          29            7  2017-07-19  \n",
       "9   1289240080042562063        2017          45           11  2017-11-08  "
      ]
     },
     "execution_count": 7,
     "metadata": {},
     "output_type": "execute_result"
    }
   ],
   "source": [
    "#Complementamos la tabal seccionando la fecha para realizar análisis por día, semana y mes\n",
    "visits['visit_year']= visits['Start Ts'].dt.isocalendar().year\n",
    "visits['visit_week'] = visits['Start Ts'].dt.isocalendar().week\n",
    "visits['visit_month'] = visits['Start Ts'].dt.month\n",
    "visits['visit_daily'] = visits['Start Ts']. dt.date\n",
    "\n",
    "visits.head(10)"
   ]
  },
  {
   "cell_type": "code",
   "execution_count": 8,
   "id": "a1f52432",
   "metadata": {},
   "outputs": [
    {
     "data": {
      "text/html": [
       "<div>\n",
       "<style scoped>\n",
       "    .dataframe tbody tr th:only-of-type {\n",
       "        vertical-align: middle;\n",
       "    }\n",
       "\n",
       "    .dataframe tbody tr th {\n",
       "        vertical-align: top;\n",
       "    }\n",
       "\n",
       "    .dataframe thead th {\n",
       "        text-align: right;\n",
       "    }\n",
       "</style>\n",
       "<table border=\"1\" class=\"dataframe\">\n",
       "  <thead>\n",
       "    <tr style=\"text-align: right;\">\n",
       "      <th></th>\n",
       "      <th>Visits</th>\n",
       "      <th>Avg_per_User</th>\n",
       "    </tr>\n",
       "  </thead>\n",
       "  <tbody>\n",
       "    <tr>\n",
       "      <th>0</th>\n",
       "      <td>visits_daily</td>\n",
       "      <td>907.99</td>\n",
       "    </tr>\n",
       "    <tr>\n",
       "      <th>1</th>\n",
       "      <td>avisits_week</td>\n",
       "      <td>5825.29</td>\n",
       "    </tr>\n",
       "    <tr>\n",
       "      <th>2</th>\n",
       "      <td>visits_month</td>\n",
       "      <td>23228.42</td>\n",
       "    </tr>\n",
       "  </tbody>\n",
       "</table>\n",
       "</div>"
      ],
      "text/plain": [
       "         Visits  Avg_per_User\n",
       "0  visits_daily        907.99\n",
       "1  avisits_week       5825.29\n",
       "2  visits_month      23228.42"
      ]
     },
     "execution_count": 8,
     "metadata": {},
     "output_type": "execute_result"
    }
   ],
   "source": [
    "#Agrupamos por día, semana, mes y contamos los usuarios para sacar el promedio de usuarios que usan el servicio\n",
    "visits_per_month= visits.groupby('visit_month').agg({'Uid': 'nunique'}).mean().round(2)\n",
    "visits_per_week= visits.groupby('visit_week').agg({'Uid': 'nunique'}).mean().round(2)\n",
    "visits_daily=  visits.groupby('visit_daily').agg({'Uid':'nunique'}).mean().round(2)\n",
    "\n",
    "#Cremos un nuevo dataframe para visualizar los resultados\n",
    "visits_per_user = pd.DataFrame({\n",
    "    'Visits': ['visits_daily','avisits_week', 'visits_month' ],\n",
    "    'Avg_per_User':[visits_daily['Uid'], visits_per_week['Uid'], visits_per_month['Uid']]\n",
    "})\n",
    "\n",
    "visits_per_user"
   ]
  },
  {
   "cell_type": "markdown",
   "id": "fdd25911",
   "metadata": {},
   "source": [
    "2.2 ¿Cuántas sesiones hay por día?"
   ]
  },
  {
   "cell_type": "code",
   "execution_count": 9,
   "id": "36844f8c",
   "metadata": {},
   "outputs": [
    {
     "name": "stdout",
     "output_type": "stream",
     "text": [
      "224303\n"
     ]
    }
   ],
   "source": [
    "#Contamos los valores unicos en la columna Start Ts la cual nos indica el inicio de una sesión\n",
    "n_sessions = visits['Start Ts'].nunique()\n",
    "print(n_sessions)"
   ]
  },
  {
   "cell_type": "markdown",
   "id": "5ec8e802",
   "metadata": {},
   "source": [
    "2.3 ¿Cuál es la duración de cada sesión?"
   ]
  },
  {
   "cell_type": "code",
   "execution_count": 10,
   "id": "42f69a3f",
   "metadata": {},
   "outputs": [
    {
     "data": {
      "text/html": [
       "<div>\n",
       "<style scoped>\n",
       "    .dataframe tbody tr th:only-of-type {\n",
       "        vertical-align: middle;\n",
       "    }\n",
       "\n",
       "    .dataframe tbody tr th {\n",
       "        vertical-align: top;\n",
       "    }\n",
       "\n",
       "    .dataframe thead th {\n",
       "        text-align: right;\n",
       "    }\n",
       "</style>\n",
       "<table border=\"1\" class=\"dataframe\">\n",
       "  <thead>\n",
       "    <tr style=\"text-align: right;\">\n",
       "      <th></th>\n",
       "      <th>Device</th>\n",
       "      <th>End Ts</th>\n",
       "      <th>Source Id</th>\n",
       "      <th>Start Ts</th>\n",
       "      <th>Uid</th>\n",
       "      <th>visit_year</th>\n",
       "      <th>visit_week</th>\n",
       "      <th>visit_month</th>\n",
       "      <th>visit_daily</th>\n",
       "      <th>session_duration</th>\n",
       "    </tr>\n",
       "  </thead>\n",
       "  <tbody>\n",
       "    <tr>\n",
       "      <th>0</th>\n",
       "      <td>touch</td>\n",
       "      <td>2017-12-20 17:38:00</td>\n",
       "      <td>4</td>\n",
       "      <td>2017-12-20 17:20:00</td>\n",
       "      <td>16879256277535980062</td>\n",
       "      <td>2017</td>\n",
       "      <td>51</td>\n",
       "      <td>12</td>\n",
       "      <td>2017-12-20</td>\n",
       "      <td>1080</td>\n",
       "    </tr>\n",
       "    <tr>\n",
       "      <th>1</th>\n",
       "      <td>desktop</td>\n",
       "      <td>2018-02-19 17:21:00</td>\n",
       "      <td>2</td>\n",
       "      <td>2018-02-19 16:53:00</td>\n",
       "      <td>104060357244891740</td>\n",
       "      <td>2018</td>\n",
       "      <td>8</td>\n",
       "      <td>2</td>\n",
       "      <td>2018-02-19</td>\n",
       "      <td>1680</td>\n",
       "    </tr>\n",
       "    <tr>\n",
       "      <th>2</th>\n",
       "      <td>touch</td>\n",
       "      <td>2017-07-01 01:54:00</td>\n",
       "      <td>5</td>\n",
       "      <td>2017-07-01 01:54:00</td>\n",
       "      <td>7459035603376831527</td>\n",
       "      <td>2017</td>\n",
       "      <td>26</td>\n",
       "      <td>7</td>\n",
       "      <td>2017-07-01</td>\n",
       "      <td>0</td>\n",
       "    </tr>\n",
       "    <tr>\n",
       "      <th>3</th>\n",
       "      <td>desktop</td>\n",
       "      <td>2018-05-20 11:23:00</td>\n",
       "      <td>9</td>\n",
       "      <td>2018-05-20 10:59:00</td>\n",
       "      <td>16174680259334210214</td>\n",
       "      <td>2018</td>\n",
       "      <td>20</td>\n",
       "      <td>5</td>\n",
       "      <td>2018-05-20</td>\n",
       "      <td>1440</td>\n",
       "    </tr>\n",
       "    <tr>\n",
       "      <th>4</th>\n",
       "      <td>desktop</td>\n",
       "      <td>2017-12-27 14:06:00</td>\n",
       "      <td>3</td>\n",
       "      <td>2017-12-27 14:06:00</td>\n",
       "      <td>9969694820036681168</td>\n",
       "      <td>2017</td>\n",
       "      <td>52</td>\n",
       "      <td>12</td>\n",
       "      <td>2017-12-27</td>\n",
       "      <td>0</td>\n",
       "    </tr>\n",
       "  </tbody>\n",
       "</table>\n",
       "</div>"
      ],
      "text/plain": [
       "    Device              End Ts  Source Id            Start Ts  \\\n",
       "0    touch 2017-12-20 17:38:00          4 2017-12-20 17:20:00   \n",
       "1  desktop 2018-02-19 17:21:00          2 2018-02-19 16:53:00   \n",
       "2    touch 2017-07-01 01:54:00          5 2017-07-01 01:54:00   \n",
       "3  desktop 2018-05-20 11:23:00          9 2018-05-20 10:59:00   \n",
       "4  desktop 2017-12-27 14:06:00          3 2017-12-27 14:06:00   \n",
       "\n",
       "                    Uid  visit_year  visit_week  visit_month visit_daily  \\\n",
       "0  16879256277535980062        2017          51           12  2017-12-20   \n",
       "1    104060357244891740        2018           8            2  2018-02-19   \n",
       "2   7459035603376831527        2017          26            7  2017-07-01   \n",
       "3  16174680259334210214        2018          20            5  2018-05-20   \n",
       "4   9969694820036681168        2017          52           12  2017-12-27   \n",
       "\n",
       "   session_duration  \n",
       "0              1080  \n",
       "1              1680  \n",
       "2                 0  \n",
       "3              1440  \n",
       "4                 0  "
      ]
     },
     "execution_count": 10,
     "metadata": {},
     "output_type": "execute_result"
    }
   ],
   "source": [
    "#Restamos el inicio y el fin de la sesión para determinar su duración\n",
    "visits['session_duration']= (visits['End Ts'] - visits['Start Ts']).dt.seconds\n",
    "visits.head()"
   ]
  },
  {
   "cell_type": "code",
   "execution_count": 11,
   "id": "91551e48",
   "metadata": {},
   "outputs": [
    {
     "name": "stdout",
     "output_type": "stream",
     "text": [
      "643.51\n"
     ]
    },
    {
     "data": {
      "text/plain": [
       "<Axes: >"
      ]
     },
     "execution_count": 11,
     "metadata": {},
     "output_type": "execute_result"
    },
    {
     "data": {
      "image/png": "[encoded data removed]",
      "text/plain": [
       "<Figure size 640x480 with 1 Axes>"
      ]
     },
     "metadata": {},
     "output_type": "display_data"
    }
   ],
   "source": [
    "#Calculamos el promedio de la duración de las sesiones e imprimimos un histograma para visualizarlo \n",
    "visits['session_duration']= (visits['End Ts'] - visits['Start Ts']).dt.seconds\n",
    "print(visits['session_duration'].mean().round(2))\n",
    "visits['session_duration'].hist(bins= 100)\n"
   ]
  },
  {
   "cell_type": "markdown",
   "id": "d2da34ff",
   "metadata": {},
   "source": [
    "2.4 ¿Con qué frecuencia los usuarios regresan?"
   ]
  },
  {
   "cell_type": "code",
   "execution_count": 12,
   "id": "a237942f",
   "metadata": {},
   "outputs": [
    {
     "name": "stdout",
     "output_type": "stream",
     "text": [
      "Uid    15.884365\n",
      "dtype: float64\n",
      "Uid    3.908962\n",
      "dtype: float64\n"
     ]
    }
   ],
   "source": [
    "#Calculamos el MAU\n",
    "total_mau= visits.groupby(['visit_year', 'visit_month']).agg({'Uid':'nunique'}).mean().round(2)\n",
    "#Calculamos el DAU\n",
    "total_dau= visits.groupby('visit_daily').agg({'Uid':'nunique'}).mean().round(2)\n",
    "#Calculamos el WAU\n",
    "total_wau= visits.groupby(['visit_year', 'visit_week']).agg({'Uid':'nunique'}).mean().round(2)\n",
    "\n",
    "#Calculamos los factores de aderencia semanal y mensual\n",
    "sticky_mau= (total_dau / total_mau) * 100\n",
    "\n",
    "sticky_wau= (total_dau/ total_wau) *100\n",
    "\n",
    "\n",
    "print(sticky_wau)\n",
    "print(sticky_mau)"
   ]
  },
  {
   "cell_type": "markdown",
   "id": "5954b098",
   "metadata": {},
   "source": [
    "De acuerdo con los factotres de aderencia podemos concluir que el 15% de nuestros usuarios regresan de manera semanal y sólo el 4% lo hace de manera mensual lo cual no indica que el servicio se sule usar más, semanalmente"
   ]
  },
  {
   "cell_type": "markdown",
   "id": "66313e25",
   "metadata": {},
   "source": [
    "### 3. Análisis de las ventas."
   ]
  },
  {
   "cell_type": "markdown",
   "id": "61f7099b",
   "metadata": {},
   "source": [
    "3.1 ¿Cuándo empieza la gente a comprar?"
   ]
  },
  {
   "cell_type": "code",
   "execution_count": 13,
   "id": "d39943b0",
   "metadata": {},
   "outputs": [
    {
     "name": "stdout",
     "output_type": "stream",
     "text": [
      "16.73\n"
     ]
    }
   ],
   "source": [
    "orders['Buy Ts'] = pd.to_datetime(orders['Buy Ts'])\n",
    "visits['Start Ts'] = pd.to_datetime(visits['Start Ts'])\n",
    "\n",
    "time_to_conv= pd.merge(visits, orders, on='Uid')\n",
    "\n",
    "\n",
    "first_reg= time_to_conv.groupby('Uid').agg(\n",
    "    first_session=('Start Ts', 'min'),\n",
    "     first_order= ('Buy Ts', 'min')\n",
    "      ).reset_index()\n",
    "\n",
    "\n",
    "first_reg['time_to_buy'] = first_reg['first_order'] - first_reg['first_session'] \n",
    "first_reg['days_to_buy'] = first_reg['time_to_buy'].dt.days\n",
    "\n",
    "\n",
    "\n",
    "\n",
    "print(first_reg['days_to_buy'].mean().round(2))\n"
   ]
  },
  {
   "cell_type": "markdown",
   "id": "8f93d004",
   "metadata": {},
   "source": [
    "Notamos que en promedio los uisuarios comienzan a comprar a los 16 días despues de su priemera interacción con la página"
   ]
  },
  {
   "cell_type": "markdown",
   "id": "4b9b48fe",
   "metadata": {},
   "source": [
    "3.2 ¿Cuántos pedidos hacen durante un período de tiempo dado?"
   ]
  },
  {
   "cell_type": "code",
   "execution_count": 23,
   "id": "43f07e1c",
   "metadata": {},
   "outputs": [
    {
     "data": {
      "text/html": [
       "<div>\n",
       "<style scoped>\n",
       "    .dataframe tbody tr th:only-of-type {\n",
       "        vertical-align: middle;\n",
       "    }\n",
       "\n",
       "    .dataframe tbody tr th {\n",
       "        vertical-align: top;\n",
       "    }\n",
       "\n",
       "    .dataframe thead th {\n",
       "        text-align: right;\n",
       "    }\n",
       "</style>\n",
       "<table border=\"1\" class=\"dataframe\">\n",
       "  <thead>\n",
       "    <tr style=\"text-align: right;\">\n",
       "      <th>cohort_period</th>\n",
       "      <th>0</th>\n",
       "      <th>1</th>\n",
       "      <th>2</th>\n",
       "      <th>3</th>\n",
       "      <th>4</th>\n",
       "      <th>5</th>\n",
       "      <th>6</th>\n",
       "      <th>7</th>\n",
       "      <th>8</th>\n",
       "      <th>9</th>\n",
       "      <th>10</th>\n",
       "      <th>11</th>\n",
       "    </tr>\n",
       "    <tr>\n",
       "      <th>first_order</th>\n",
       "      <th></th>\n",
       "      <th></th>\n",
       "      <th></th>\n",
       "      <th></th>\n",
       "      <th></th>\n",
       "      <th></th>\n",
       "      <th></th>\n",
       "      <th></th>\n",
       "      <th></th>\n",
       "      <th></th>\n",
       "      <th></th>\n",
       "      <th></th>\n",
       "    </tr>\n",
       "  </thead>\n",
       "  <tbody>\n",
       "    <tr>\n",
       "      <th>2017-06</th>\n",
       "      <td>2354.0</td>\n",
       "      <td>177.0</td>\n",
       "      <td>174.0</td>\n",
       "      <td>226.0</td>\n",
       "      <td>292.0</td>\n",
       "      <td>218.0</td>\n",
       "      <td>276.0</td>\n",
       "      <td>174.0</td>\n",
       "      <td>212.0</td>\n",
       "      <td>153.0</td>\n",
       "      <td>96.0</td>\n",
       "      <td>86.0</td>\n",
       "    </tr>\n",
       "    <tr>\n",
       "      <th>2017-07</th>\n",
       "      <td>2186.0</td>\n",
       "      <td>100.0</td>\n",
       "      <td>120.0</td>\n",
       "      <td>104.0</td>\n",
       "      <td>72.0</td>\n",
       "      <td>82.0</td>\n",
       "      <td>61.0</td>\n",
       "      <td>50.0</td>\n",
       "      <td>58.0</td>\n",
       "      <td>24.0</td>\n",
       "      <td>53.0</td>\n",
       "      <td>NaN</td>\n",
       "    </tr>\n",
       "    <tr>\n",
       "      <th>2017-08</th>\n",
       "      <td>1533.0</td>\n",
       "      <td>108.0</td>\n",
       "      <td>100.0</td>\n",
       "      <td>81.0</td>\n",
       "      <td>85.0</td>\n",
       "      <td>62.0</td>\n",
       "      <td>49.0</td>\n",
       "      <td>78.0</td>\n",
       "      <td>46.0</td>\n",
       "      <td>46.0</td>\n",
       "      <td>NaN</td>\n",
       "      <td>NaN</td>\n",
       "    </tr>\n",
       "    <tr>\n",
       "      <th>2017-09</th>\n",
       "      <td>2933.0</td>\n",
       "      <td>219.0</td>\n",
       "      <td>161.0</td>\n",
       "      <td>164.0</td>\n",
       "      <td>67.0</td>\n",
       "      <td>109.0</td>\n",
       "      <td>108.0</td>\n",
       "      <td>56.0</td>\n",
       "      <td>61.0</td>\n",
       "      <td>NaN</td>\n",
       "      <td>NaN</td>\n",
       "      <td>NaN</td>\n",
       "    </tr>\n",
       "    <tr>\n",
       "      <th>2017-10</th>\n",
       "      <td>4964.0</td>\n",
       "      <td>314.0</td>\n",
       "      <td>162.0</td>\n",
       "      <td>122.0</td>\n",
       "      <td>129.0</td>\n",
       "      <td>103.0</td>\n",
       "      <td>86.0</td>\n",
       "      <td>125.0</td>\n",
       "      <td>NaN</td>\n",
       "      <td>NaN</td>\n",
       "      <td>NaN</td>\n",
       "      <td>NaN</td>\n",
       "    </tr>\n",
       "    <tr>\n",
       "      <th>2017-11</th>\n",
       "      <td>4813.0</td>\n",
       "      <td>397.0</td>\n",
       "      <td>182.0</td>\n",
       "      <td>211.0</td>\n",
       "      <td>136.0</td>\n",
       "      <td>59.0</td>\n",
       "      <td>102.0</td>\n",
       "      <td>NaN</td>\n",
       "      <td>NaN</td>\n",
       "      <td>NaN</td>\n",
       "      <td>NaN</td>\n",
       "      <td>NaN</td>\n",
       "    </tr>\n",
       "    <tr>\n",
       "      <th>2017-12</th>\n",
       "      <td>5052.0</td>\n",
       "      <td>270.0</td>\n",
       "      <td>202.0</td>\n",
       "      <td>179.0</td>\n",
       "      <td>86.0</td>\n",
       "      <td>105.0</td>\n",
       "      <td>NaN</td>\n",
       "      <td>NaN</td>\n",
       "      <td>NaN</td>\n",
       "      <td>NaN</td>\n",
       "      <td>NaN</td>\n",
       "      <td>NaN</td>\n",
       "    </tr>\n",
       "    <tr>\n",
       "      <th>2018-01</th>\n",
       "      <td>3783.0</td>\n",
       "      <td>224.0</td>\n",
       "      <td>159.0</td>\n",
       "      <td>64.0</td>\n",
       "      <td>78.0</td>\n",
       "      <td>NaN</td>\n",
       "      <td>NaN</td>\n",
       "      <td>NaN</td>\n",
       "      <td>NaN</td>\n",
       "      <td>NaN</td>\n",
       "      <td>NaN</td>\n",
       "      <td>NaN</td>\n",
       "    </tr>\n",
       "    <tr>\n",
       "      <th>2018-02</th>\n",
       "      <td>4095.0</td>\n",
       "      <td>222.0</td>\n",
       "      <td>83.0</td>\n",
       "      <td>70.0</td>\n",
       "      <td>NaN</td>\n",
       "      <td>NaN</td>\n",
       "      <td>NaN</td>\n",
       "      <td>NaN</td>\n",
       "      <td>NaN</td>\n",
       "      <td>NaN</td>\n",
       "      <td>NaN</td>\n",
       "      <td>NaN</td>\n",
       "    </tr>\n",
       "    <tr>\n",
       "      <th>2018-03</th>\n",
       "      <td>4130.0</td>\n",
       "      <td>178.0</td>\n",
       "      <td>176.0</td>\n",
       "      <td>NaN</td>\n",
       "      <td>NaN</td>\n",
       "      <td>NaN</td>\n",
       "      <td>NaN</td>\n",
       "      <td>NaN</td>\n",
       "      <td>NaN</td>\n",
       "      <td>NaN</td>\n",
       "      <td>NaN</td>\n",
       "      <td>NaN</td>\n",
       "    </tr>\n",
       "    <tr>\n",
       "      <th>2018-04</th>\n",
       "      <td>2495.0</td>\n",
       "      <td>195.0</td>\n",
       "      <td>NaN</td>\n",
       "      <td>NaN</td>\n",
       "      <td>NaN</td>\n",
       "      <td>NaN</td>\n",
       "      <td>NaN</td>\n",
       "      <td>NaN</td>\n",
       "      <td>NaN</td>\n",
       "      <td>NaN</td>\n",
       "      <td>NaN</td>\n",
       "      <td>NaN</td>\n",
       "    </tr>\n",
       "    <tr>\n",
       "      <th>2018-05</th>\n",
       "      <td>3249.0</td>\n",
       "      <td>NaN</td>\n",
       "      <td>NaN</td>\n",
       "      <td>NaN</td>\n",
       "      <td>NaN</td>\n",
       "      <td>NaN</td>\n",
       "      <td>NaN</td>\n",
       "      <td>NaN</td>\n",
       "      <td>NaN</td>\n",
       "      <td>NaN</td>\n",
       "      <td>NaN</td>\n",
       "      <td>NaN</td>\n",
       "    </tr>\n",
       "    <tr>\n",
       "      <th>2018-06</th>\n",
       "      <td>1.0</td>\n",
       "      <td>NaN</td>\n",
       "      <td>NaN</td>\n",
       "      <td>NaN</td>\n",
       "      <td>NaN</td>\n",
       "      <td>NaN</td>\n",
       "      <td>NaN</td>\n",
       "      <td>NaN</td>\n",
       "      <td>NaN</td>\n",
       "      <td>NaN</td>\n",
       "      <td>NaN</td>\n",
       "      <td>NaN</td>\n",
       "    </tr>\n",
       "  </tbody>\n",
       "</table>\n",
       "</div>"
      ],
      "text/plain": [
       "cohort_period      0      1      2      3      4      5      6      7      8   \\\n",
       "first_order                                                                     \n",
       "2017-06        2354.0  177.0  174.0  226.0  292.0  218.0  276.0  174.0  212.0   \n",
       "2017-07        2186.0  100.0  120.0  104.0   72.0   82.0   61.0   50.0   58.0   \n",
       "2017-08        1533.0  108.0  100.0   81.0   85.0   62.0   49.0   78.0   46.0   \n",
       "2017-09        2933.0  219.0  161.0  164.0   67.0  109.0  108.0   56.0   61.0   \n",
       "2017-10        4964.0  314.0  162.0  122.0  129.0  103.0   86.0  125.0    NaN   \n",
       "2017-11        4813.0  397.0  182.0  211.0  136.0   59.0  102.0    NaN    NaN   \n",
       "2017-12        5052.0  270.0  202.0  179.0   86.0  105.0    NaN    NaN    NaN   \n",
       "2018-01        3783.0  224.0  159.0   64.0   78.0    NaN    NaN    NaN    NaN   \n",
       "2018-02        4095.0  222.0   83.0   70.0    NaN    NaN    NaN    NaN    NaN   \n",
       "2018-03        4130.0  178.0  176.0    NaN    NaN    NaN    NaN    NaN    NaN   \n",
       "2018-04        2495.0  195.0    NaN    NaN    NaN    NaN    NaN    NaN    NaN   \n",
       "2018-05        3249.0    NaN    NaN    NaN    NaN    NaN    NaN    NaN    NaN   \n",
       "2018-06           1.0    NaN    NaN    NaN    NaN    NaN    NaN    NaN    NaN   \n",
       "\n",
       "cohort_period     9     10    11  \n",
       "first_order                       \n",
       "2017-06        153.0  96.0  86.0  \n",
       "2017-07         24.0  53.0   NaN  \n",
       "2017-08         46.0   NaN   NaN  \n",
       "2017-09          NaN   NaN   NaN  \n",
       "2017-10          NaN   NaN   NaN  \n",
       "2017-11          NaN   NaN   NaN  \n",
       "2017-12          NaN   NaN   NaN  \n",
       "2018-01          NaN   NaN   NaN  \n",
       "2018-02          NaN   NaN   NaN  \n",
       "2018-03          NaN   NaN   NaN  \n",
       "2018-04          NaN   NaN   NaN  \n",
       "2018-05          NaN   NaN   NaN  \n",
       "2018-06          NaN   NaN   NaN  "
      ]
     },
     "execution_count": 23,
     "metadata": {},
     "output_type": "execute_result"
    }
   ],
   "source": [
    "#Convertimos columna Buy Ts a datetime\n",
    "orders['Buy Ts'] = pd.to_datetime(orders['Buy Ts'])\n",
    "\n",
    "#Creación de cohortes\n",
    "#1. Encontrar la primera compra agripando por Uid y encontramos la fecha minima con .min()\n",
    "orders['first_order']= orders.groupby('Uid')['Buy Ts'].transform('min').dt.to_period('M')\n",
    "orders['Buy_period']= orders['Buy Ts'].dt.to_period('M')\n",
    "\n",
    "#2. Calculamos el tiempo de vida de las cohortes\n",
    "orders['cohort_period']= (orders['Buy_period'] - orders['first_order']).apply(lambda x: x.n)\n",
    "\n",
    "#3. Contamos los pedidos por cohorte\n",
    "orders_count= orders.groupby(['first_order', 'cohort_period']).size().reset_index(name='order_count')\n",
    "\n",
    "#4. Creamos tabla dinámica para una mejor visualización\n",
    "orders_count_result= orders_count.pivot_table(\n",
    "    index= 'first_order',\n",
    "    columns= 'cohort_period',\n",
    "    values= 'order_count'\n",
    ")\n",
    "\n",
    "\n",
    "\n",
    "orders_count_result"
   ]
  },
  {
   "cell_type": "markdown",
   "id": "a630fd6f",
   "metadata": {},
   "source": [
    "Podemos notar que al inicio los pedidos son generosos pero al paso del tiempo estos caen abruptamente."
   ]
  },
  {
   "cell_type": "markdown",
   "id": "6f8eab73",
   "metadata": {},
   "source": [
    "3.3 ¿Cuál es el tamaño promedio de compra?\n"
   ]
  },
  {
   "cell_type": "code",
   "execution_count": 25,
   "id": "70ff8849",
   "metadata": {},
   "outputs": [
    {
     "name": "stdout",
     "output_type": "stream",
     "text": [
      "El tamaño promedio de las compras es de $5.00\n"
     ]
    }
   ],
   "source": [
    "#Sumaremos la cantidad total de los ingresos y contaremos el total de pedidos registrados\n",
    "\n",
    "total_revenue= orders['Revenue'].sum()\n",
    "total_orders= len(orders)\n",
    "\n",
    "avg_revenue_size = total_revenue / total_orders\n",
    "\n",
    "print(f'El tamaño promedio de las compras es de ${avg_revenue_size:.2f}')"
   ]
  },
  {
   "cell_type": "markdown",
   "id": "579b8f97",
   "metadata": {},
   "source": [
    "3.4 ¿Cuánto dinero traen? (LTV)"
   ]
  },
  {
   "cell_type": "code",
   "execution_count": 28,
   "id": "01e6b1ad",
   "metadata": {},
   "outputs": [
    {
     "name": "stdout",
     "output_type": "stream",
     "text": [
      "El LTV promedio es de $6.90\n"
     ]
    }
   ],
   "source": [
    "#Calculamos el LTV por cada cliente agrupando Uid y sumando el revenue\n",
    "\n",
    "revenue_per_coustumer= orders.groupby('Uid')['Revenue'].sum()\n",
    "avg_per_coustumer= revenue_per_coustumer.mean()\n",
    "print(f'El LTV promedio es de ${avg_per_coustumer:.2f}')"
   ]
  },
  {
   "cell_type": "markdown",
   "id": "aaa95b62",
   "metadata": {},
   "source": [
    "### 4. Análisis de Marketing"
   ]
  },
  {
   "cell_type": "markdown",
   "id": "2a42c956",
   "metadata": {},
   "source": [
    "4.1 ¿Cuánto dinero se gastó?  (Total/por fuente de adquisición/a lo largo del tiempo) "
   ]
  },
  {
   "cell_type": "code",
   "execution_count": 40,
   "id": "10908d90",
   "metadata": {},
   "outputs": [
    {
     "name": "stdout",
     "output_type": "stream",
     "text": [
      "El costo total de adquisición es de $329131.62\n",
      "source_id\n",
      "1      20833.27\n",
      "2      42806.04\n",
      "3     141321.63\n",
      "4      61073.60\n",
      "5      51757.10\n",
      "9       5517.49\n",
      "10      5822.49\n",
      "Name: costs, dtype: float64\n",
      "\n",
      "Gasto total por mes:\n",
      "Month\n",
      "2017-06    18015.00\n",
      "2017-07    18240.59\n",
      "2017-08    14790.54\n",
      "2017-09    24368.91\n",
      "2017-10    36322.88\n",
      "2017-11    37907.88\n",
      "2017-12    38315.35\n",
      "2018-01    33518.52\n",
      "2018-02    32723.03\n",
      "2018-03    30415.27\n",
      "2018-04    22289.38\n",
      "2018-05    22224.27\n",
      "Freq: M, Name: costs, dtype: float64\n",
      "\n",
      "Gasto total por año:\n",
      "year\n",
      "2017    187961.15\n",
      "2018    141170.47\n",
      "Freq: Y-DEC, Name: costs, dtype: float64\n"
     ]
    }
   ],
   "source": [
    "#Convertimos el tipo de fecha chorrecto\n",
    "costs['dt']= pd.to_datetime(costs['dt'])\n",
    "#Calculamos el total del costo de adquisición\n",
    "total_spent = costs['costs'].sum()\n",
    "#Calculamos el costo por cada una de las fuentes\n",
    "total_spent_per_font= costs.groupby('source_id')['costs'].sum()\n",
    "#Calcularemos los costos por periodo mensual\n",
    "costs['Month']= costs['dt'].dt.to_period('M')\n",
    "monthly_spent= costs.groupby('Month')['costs'].sum()\n",
    "#Calculamos los costos por año\n",
    "costs['year']= costs['dt'].dt.to_period('Y')\n",
    "year_spent= costs.groupby('year')['costs'].sum()\n",
    "\n",
    "print(f'El costo total de adquisición es de ${total_spent:.2f}')\n",
    "print(total_spent_per_font)\n",
    "print('\\nGasto total por mes:')\n",
    "print(monthly_spent)\n",
    "print('\\nGasto total por año:')\n",
    "print(year_spent)\n"
   ]
  },
  {
   "cell_type": "code",
   "execution_count": 69,
   "id": "7614cf76",
   "metadata": {},
   "outputs": [
    {
     "data": {
      "image/png": "[encoded data removed]",
      "text/plain": [
       "<Figure size 1000x600 with 1 Axes>"
      ]
     },
     "metadata": {},
     "output_type": "display_data"
    }
   ],
   "source": [
    "total_spent_per_font= costs.groupby('source_id')['costs'].sum().reset_index()\n",
    "\n",
    "plt.figure(figsize= (10, 6))\n",
    "plt.bar(total_spent_per_font['source_id'], total_spent_per_font['costs'], color='black')\n",
    "plt.title('Costos de Marketing')\n",
    "plt.xlabel('Source')\n",
    "plt.ylabel('costs')\n",
    "plt.grid(True)\n",
    "plt.show()"
   ]
  },
  {
   "cell_type": "markdown",
   "id": "bb2b3a3f",
   "metadata": {},
   "source": [
    "Notamos que la fuente número 3 es la que más ha gastado en adquisicion de clientes, el mes de diciembre fue al que mas presupuesto se le dió para adquisicion de clientes y el año en el que más se invirtio fue el 2017"
   ]
  },
  {
   "cell_type": "markdown",
   "id": "9485672c",
   "metadata": {},
   "source": [
    "4.2 ¿Cuál fue el costo de adquisición de clientes de cada una de las fuentes?"
   ]
  },
  {
   "cell_type": "code",
   "execution_count": 61,
   "id": "35265b63",
   "metadata": {},
   "outputs": [
    {
     "name": "stdout",
     "output_type": "stream",
     "text": [
      "El costo por adquisicion de clientes por cada fuente es de:\n",
      "   source_id      costs  coustumers_acquired       CAC\n",
      "0          1   20833.27                 9469  2.200155\n",
      "1          2   42806.04                17616  2.429952\n",
      "2          3  141321.63                66116  2.137480\n",
      "3          4   61073.60                72346  0.844188\n",
      "4          5   51757.10                49237  1.051183\n",
      "5          9    5517.49                 6448  0.855690\n",
      "6         10    5822.49                 6903  0.843472\n"
     ]
    }
   ],
   "source": [
    "#Calculamos el costo por cada una de las fuentes\n",
    "total_spent_by_source= costs.groupby('source_id')['costs'].sum().reset_index()\n",
    "#Sacamos la primer fecha en la que el cliente se registro\n",
    "first_visit= visits.loc[visits.groupby('Uid')['Start Ts'].idxmin()]\n",
    "#Contamos lo clientes que ingresaron por primera vez y los agrupamos por cada fuente\n",
    "coustumer_by_source= first_visit.groupby('Source Id')['Uid'].nunique().reset_index(name='coustumers_acquired')\n",
    "#Tenemos la columna Source_id escritas de diferente forma, las homologaremos para poder unir las tablas\n",
    "coustumer_by_source= coustumer_by_source.rename(columns={'Source Id': 'source_id'})\n",
    "#Uniremos las tablas de costos con los usuarios por fuente \n",
    "cac_per_coustumer= pd.merge(total_spent_by_source, coustumer_by_source, on= 'source_id', how= 'left')\n",
    "#Calculamos el CAC\n",
    "cac_per_coustumer['CAC'] = cac_per_coustumer['costs'] / cac_per_coustumer['coustumers_acquired']\n",
    "\n",
    "print('El costo por adquisicion de clientes por cada fuente es de:')\n",
    "print(cac_per_coustumer)\n",
    "\n",
    "\n"
   ]
  },
  {
   "cell_type": "code",
   "execution_count": 71,
   "id": "11ef68e2",
   "metadata": {},
   "outputs": [
    {
     "data": {
      "image/png": "[encoded data removed]",
      "text/plain": [
       "<Figure size 1000x600 with 1 Axes>"
      ]
     },
     "metadata": {},
     "output_type": "display_data"
    }
   ],
   "source": [
    "plt.figure(figsize=(10,6))\n",
    "plt.bar(cac_per_coustumer['source_id'], cac_per_coustumer['CAC'], color= 'black')\n",
    "plt.title('Costo de adquisición por cliente por fuente')\n",
    "plt.xlabel('Source')\n",
    "plt.ylabel('CAC')\n",
    "plt.grid(True)\n",
    "plt.show()"
   ]
  },
  {
   "cell_type": "markdown",
   "id": "5ebb9613",
   "metadata": {},
   "source": [
    "Notamos que la fuente número 2 fue la que tuvo un costo por cliente más elevado pero no fue la que atrajo a más clientes nuevos, por el contrario la fuente cuatro tuvo un menor costo y atrajo a más usuarios"
   ]
  },
  {
   "cell_type": "code",
   "execution_count": 73,
   "id": "9567d96c",
   "metadata": {},
   "outputs": [
    {
     "data": {
      "image/png": "[encoded data removed]",
      "text/plain": [
       "<Figure size 1000x600 with 1 Axes>"
      ]
     },
     "metadata": {},
     "output_type": "display_data"
    }
   ],
   "source": [
    "plt.figure(figsize=(10,6))\n",
    "plt.bar(cac_per_coustumer['source_id'], cac_per_coustumer['coustumers_acquired'], color= 'black')\n",
    "plt.title('Clientes adquiridos para cada fuente')\n",
    "plt.xlabel('Source')\n",
    "plt.ylabel('Clientes')\n",
    "plt.grid(True)\n",
    "plt.show()"
   ]
  },
  {
   "cell_type": "markdown",
   "id": "f20631ce",
   "metadata": {},
   "source": [
    "Como lo vimos en el análisis anterior la fuente 4 fue la que más atrajo a clientes nuevos no así las fuentes 9 y 10 pero creo que se debe a que no son periodos completos"
   ]
  },
  {
   "cell_type": "markdown",
   "id": "2736d3d5",
   "metadata": {},
   "source": [
    "Compararemos los ingresos que nos trae cada cliente (LTV) contra lo que nos cuesta atraerlos (CAC)"
   ]
  },
  {
   "cell_type": "code",
   "execution_count": 76,
   "id": "ae7cb233",
   "metadata": {},
   "outputs": [
    {
     "data": {
      "text/html": [
       "<div>\n",
       "<style scoped>\n",
       "    .dataframe tbody tr th:only-of-type {\n",
       "        vertical-align: middle;\n",
       "    }\n",
       "\n",
       "    .dataframe tbody tr th {\n",
       "        vertical-align: top;\n",
       "    }\n",
       "\n",
       "    .dataframe thead th {\n",
       "        text-align: right;\n",
       "    }\n",
       "</style>\n",
       "<table border=\"1\" class=\"dataframe\">\n",
       "  <thead>\n",
       "    <tr style=\"text-align: right;\">\n",
       "      <th></th>\n",
       "      <th>source_id</th>\n",
       "      <th>LTV</th>\n",
       "      <th>costs</th>\n",
       "      <th>coustumers_acquired</th>\n",
       "      <th>CAC</th>\n",
       "    </tr>\n",
       "  </thead>\n",
       "  <tbody>\n",
       "    <tr>\n",
       "      <th>0</th>\n",
       "      <td>1</td>\n",
       "      <td>10.724577</td>\n",
       "      <td>20833.27</td>\n",
       "      <td>9469.0</td>\n",
       "      <td>2.200155</td>\n",
       "    </tr>\n",
       "    <tr>\n",
       "      <th>1</th>\n",
       "      <td>2</td>\n",
       "      <td>13.383802</td>\n",
       "      <td>42806.04</td>\n",
       "      <td>17616.0</td>\n",
       "      <td>2.429952</td>\n",
       "    </tr>\n",
       "    <tr>\n",
       "      <th>2</th>\n",
       "      <td>3</td>\n",
       "      <td>5.204931</td>\n",
       "      <td>141321.63</td>\n",
       "      <td>66116.0</td>\n",
       "      <td>2.137480</td>\n",
       "    </tr>\n",
       "    <tr>\n",
       "      <th>3</th>\n",
       "      <td>4</td>\n",
       "      <td>5.506685</td>\n",
       "      <td>61073.60</td>\n",
       "      <td>72346.0</td>\n",
       "      <td>0.844188</td>\n",
       "    </tr>\n",
       "    <tr>\n",
       "      <th>4</th>\n",
       "      <td>5</td>\n",
       "      <td>7.592558</td>\n",
       "      <td>51757.10</td>\n",
       "      <td>49237.0</td>\n",
       "      <td>1.051183</td>\n",
       "    </tr>\n",
       "    <tr>\n",
       "      <th>5</th>\n",
       "      <td>6</td>\n",
       "      <td>NaN</td>\n",
       "      <td>NaN</td>\n",
       "      <td>NaN</td>\n",
       "      <td>NaN</td>\n",
       "    </tr>\n",
       "    <tr>\n",
       "      <th>6</th>\n",
       "      <td>7</td>\n",
       "      <td>1.220000</td>\n",
       "      <td>NaN</td>\n",
       "      <td>NaN</td>\n",
       "      <td>NaN</td>\n",
       "    </tr>\n",
       "    <tr>\n",
       "      <th>7</th>\n",
       "      <td>9</td>\n",
       "      <td>5.293566</td>\n",
       "      <td>5517.49</td>\n",
       "      <td>6448.0</td>\n",
       "      <td>0.855690</td>\n",
       "    </tr>\n",
       "    <tr>\n",
       "      <th>8</th>\n",
       "      <td>10</td>\n",
       "      <td>3.348631</td>\n",
       "      <td>5822.49</td>\n",
       "      <td>6903.0</td>\n",
       "      <td>0.843472</td>\n",
       "    </tr>\n",
       "  </tbody>\n",
       "</table>\n",
       "</div>"
      ],
      "text/plain": [
       "   source_id        LTV      costs  coustumers_acquired       CAC\n",
       "0          1  10.724577   20833.27               9469.0  2.200155\n",
       "1          2  13.383802   42806.04              17616.0  2.429952\n",
       "2          3   5.204931  141321.63              66116.0  2.137480\n",
       "3          4   5.506685   61073.60              72346.0  0.844188\n",
       "4          5   7.592558   51757.10              49237.0  1.051183\n",
       "5          6        NaN        NaN                  NaN       NaN\n",
       "6          7   1.220000        NaN                  NaN       NaN\n",
       "7          9   5.293566    5517.49               6448.0  0.855690\n",
       "8         10   3.348631    5822.49               6903.0  0.843472"
      ]
     },
     "execution_count": 76,
     "metadata": {},
     "output_type": "execute_result"
    }
   ],
   "source": [
    "ltv_by_source= pd.merge(first_visit, revenue_per_coustumer, on= 'Uid', how='left')\n",
    "ltv_by_source_avg= ltv_by_source.groupby('Source Id')['Revenue'].mean().reset_index()\n",
    "ltv_by_source_avg= ltv_by_source_avg.rename(columns={'Source Id': 'source_id', 'Revenue': 'LTV'})\n",
    "\n",
    "ltv_cac= pd.merge(ltv_by_source_avg, cac_per_coustumer, on='source_id', how='left')\n",
    "\n",
    "ltv_cac"
   ]
  },
  {
   "cell_type": "code",
   "execution_count": 78,
   "id": "c695f610",
   "metadata": {},
   "outputs": [
    {
     "data": {
      "image/png": "[encoded data removed]",
      "text/plain": [
       "<Figure size 1200x700 with 1 Axes>"
      ]
     },
     "metadata": {},
     "output_type": "display_data"
    }
   ],
   "source": [
    "ltv_cac.plot(x='source_id', y=['LTV', 'CAC'], kind='bar', figsize=(12, 7))\n",
    "plt.title('Comparación de LTV y CAC por Fuente')\n",
    "plt.xlabel('Fuente')\n",
    "plt.ylabel('Ingreso/Costo')\n",
    "plt.grid(axis='y', linestyle='--')\n",
    "plt.show()"
   ]
  },
  {
   "cell_type": "markdown",
   "id": "e47546ce",
   "metadata": {},
   "source": [
    "Notamos que el negocio es rentable ya que los ingresos por clientes en cada una de las fuentes son mayores a lo que se invirtio para atraerlos"
   ]
  },
  {
   "cell_type": "markdown",
   "id": "1f5e885c",
   "metadata": {},
   "source": [
    "4.3 ¿Cuán rentables eran las inversiones? (ROMI)"
   ]
  },
  {
   "cell_type": "code",
   "execution_count": 103,
   "id": "b9f2674f",
   "metadata": {},
   "outputs": [
    {
     "data": {
      "text/html": [
       "<div>\n",
       "<style scoped>\n",
       "    .dataframe tbody tr th:only-of-type {\n",
       "        vertical-align: middle;\n",
       "    }\n",
       "\n",
       "    .dataframe tbody tr th {\n",
       "        vertical-align: top;\n",
       "    }\n",
       "\n",
       "    .dataframe thead th {\n",
       "        text-align: right;\n",
       "    }\n",
       "</style>\n",
       "<table border=\"1\" class=\"dataframe\">\n",
       "  <thead>\n",
       "    <tr style=\"text-align: right;\">\n",
       "      <th></th>\n",
       "      <th>source_id</th>\n",
       "      <th>revenue</th>\n",
       "      <th>costs</th>\n",
       "      <th>ROMI</th>\n",
       "      <th>profitable</th>\n",
       "    </tr>\n",
       "  </thead>\n",
       "  <tbody>\n",
       "    <tr>\n",
       "      <th>0</th>\n",
       "      <td>1</td>\n",
       "      <td>31090.55</td>\n",
       "      <td>20833.27</td>\n",
       "      <td>0.492351</td>\n",
       "      <td>Positive</td>\n",
       "    </tr>\n",
       "    <tr>\n",
       "      <th>1</th>\n",
       "      <td>2</td>\n",
       "      <td>46923.61</td>\n",
       "      <td>42806.04</td>\n",
       "      <td>0.096191</td>\n",
       "      <td>Positive</td>\n",
       "    </tr>\n",
       "    <tr>\n",
       "      <th>2</th>\n",
       "      <td>3</td>\n",
       "      <td>54511.24</td>\n",
       "      <td>141321.63</td>\n",
       "      <td>-0.614275</td>\n",
       "      <td>Negative</td>\n",
       "    </tr>\n",
       "    <tr>\n",
       "      <th>3</th>\n",
       "      <td>4</td>\n",
       "      <td>56696.83</td>\n",
       "      <td>61073.60</td>\n",
       "      <td>-0.071664</td>\n",
       "      <td>Negative</td>\n",
       "    </tr>\n",
       "    <tr>\n",
       "      <th>4</th>\n",
       "      <td>5</td>\n",
       "      <td>52624.02</td>\n",
       "      <td>51757.10</td>\n",
       "      <td>0.016750</td>\n",
       "      <td>Positive</td>\n",
       "    </tr>\n",
       "    <tr>\n",
       "      <th>5</th>\n",
       "      <td>6</td>\n",
       "      <td>0.00</td>\n",
       "      <td>NaN</td>\n",
       "      <td>NaN</td>\n",
       "      <td>Negative</td>\n",
       "    </tr>\n",
       "    <tr>\n",
       "      <th>6</th>\n",
       "      <td>7</td>\n",
       "      <td>1.22</td>\n",
       "      <td>NaN</td>\n",
       "      <td>NaN</td>\n",
       "      <td>Negative</td>\n",
       "    </tr>\n",
       "    <tr>\n",
       "      <th>7</th>\n",
       "      <td>9</td>\n",
       "      <td>5759.40</td>\n",
       "      <td>5517.49</td>\n",
       "      <td>0.043844</td>\n",
       "      <td>Positive</td>\n",
       "    </tr>\n",
       "    <tr>\n",
       "      <th>8</th>\n",
       "      <td>10</td>\n",
       "      <td>4450.33</td>\n",
       "      <td>5822.49</td>\n",
       "      <td>-0.235665</td>\n",
       "      <td>Negative</td>\n",
       "    </tr>\n",
       "  </tbody>\n",
       "</table>\n",
       "</div>"
      ],
      "text/plain": [
       "   source_id   revenue      costs      ROMI profitable\n",
       "0          1  31090.55   20833.27  0.492351   Positive\n",
       "1          2  46923.61   42806.04  0.096191   Positive\n",
       "2          3  54511.24  141321.63 -0.614275   Negative\n",
       "3          4  56696.83   61073.60 -0.071664   Negative\n",
       "4          5  52624.02   51757.10  0.016750   Positive\n",
       "5          6      0.00        NaN       NaN   Negative\n",
       "6          7      1.22        NaN       NaN   Negative\n",
       "7          9   5759.40    5517.49  0.043844   Positive\n",
       "8         10   4450.33    5822.49 -0.235665   Negative"
      ]
     },
     "execution_count": 103,
     "metadata": {},
     "output_type": "execute_result"
    }
   ],
   "source": [
    "#Unimos las tablas order y visits para realizar los calculos\n",
    "orders_by_source= pd.merge(orders, visits, on= 'Uid', how='left')\n",
    "#Encontramos la primera fecha de registro del cliente y sumamos los ingresos\n",
    "first_visit= orders_by_source.loc[orders_by_source.groupby('Uid')['Buy Ts'].idxmin()]\n",
    "ltv_per_coustumer= orders_by_source.groupby('Uid')['Revenue'].sum().reset_index()\n",
    "#unimos las consultas anteriores ltv con nuestro tabla first_visits, agrupamos las fuentes y sumamos ingresos\n",
    "coustumer_ltv_source= pd.merge(ltv_by_source, first_visit, on='Uid', how='left')\n",
    "total_revenue_by_source= coustumer_ltv_source.groupby('Source Id_x')['Revenue_x'].sum().reset_index()\n",
    "total_revenue_by_source= total_revenue_by_source.rename(columns={'Source Id_x': 'source_id', 'Revenue_x':'revenue'})\n",
    "#calculamos el ROMI\n",
    "romi_data= pd.merge(total_revenue_by_source, total_spent_by_source, on='source_id', how='left')\n",
    "romi_data['ROMI']= (romi_data['revenue'] - romi_data['costs']) / romi_data['costs']\n",
    "romi_data['profitable']= np.where(romi_data['ROMI'] > 0, 'Positive', 'Negative')\n",
    "\n",
    "romi_data\n"
   ]
  },
  {
   "cell_type": "code",
   "execution_count": 106,
   "id": "d89d98d3",
   "metadata": {},
   "outputs": [
    {
     "data": {
      "image/png": "[encoded data removed]",
      "text/plain": [
       "<Figure size 1200x700 with 1 Axes>"
      ]
     },
     "metadata": {},
     "output_type": "display_data"
    }
   ],
   "source": [
    "romi_data.plot(x='source_id', y=['revenue', 'costs'], kind='bar', figsize=(12, 7))\n",
    "plt.title('Rentabilidad por fuente')\n",
    "plt.xlabel('Fuente')\n",
    "plt.ylabel('ROMI')\n",
    "plt.grid(axis='y', linestyle='--')\n",
    "plt.show()"
   ]
  },
  {
   "cell_type": "markdown",
   "id": "86dcba05",
   "metadata": {},
   "source": [
    "Podemos notar que las fuentes no han sido tan rentables para el negocio, algunas son positivas y otras no, en especial la 3 que sin duda costo más de lo que generó."
   ]
  },
  {
   "cell_type": "markdown",
   "id": "0065a829",
   "metadata": {},
   "source": [
    "### 5 Concluciones"
   ]
  },
  {
   "cell_type": "markdown",
   "id": "b652c898",
   "metadata": {},
   "source": [
    "En general el análisis de las métricas, como el Costo de Adquisición de Clientes (CAC) y el Valor de Vida del Cliente (LTV), revela que, en promedio, el negocio está en una posición saludable. El LTV promedio de los clientes es superior al CAC promedio, lo que indica que cada cliente adquirido genera más ingresos a lo largo de su vida de lo que costó atraerlo."
   ]
  },
  {
   "cell_type": "markdown",
   "id": "62cdd71d",
   "metadata": {},
   "source": [
    "Recomendaciones:\n",
    "\n",
    "1. Aumentar la Inversión: Aumentar el gasto en las fuentes de adquisición con el ROMI más alto, permitirá escalar las fuentes que ya han demostrado ser exitosas.\n",
    "\n",
    "2. Investigar y Optimizar: Analizar las fuentes con ROMI negativo, y averiguar si se puede reducir el costo o mejorar el rendimiento para que sean rentables o considera pausar o eliminar la inversión en ellas.\n",
    "\n",
    "3. Monitoreo Continuo: Monitorear el ROMI y el LTV/CAC de forma regular para asegurar que las decisiones de marketing siempre estén alineadas con los objetivos de rentabilidad."
   ]
  }
 ],
 "metadata": {
  "kernelspec": {
   "display_name": "Python 3",
   "language": "python",
   "name": "python3"
  },
  "language_info": {
   "codemirror_mode": {
    "name": "ipython",
    "version": 3
   },
   "file_extension": ".py",
   "mimetype": "text/x-python",
   "name": "python",
   "nbconvert_exporter": "python",
   "pygments_lexer": "ipython3",
   "version": "3.13.4"
  }
 },
 "nbformat": 4,
 "nbformat_minor": 5
}
